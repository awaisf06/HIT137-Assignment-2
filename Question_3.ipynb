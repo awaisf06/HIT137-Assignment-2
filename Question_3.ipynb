{
  "nbformat": 4,
  "nbformat_minor": 0,
  "metadata": {
    "colab": {
      "provenance": []
    },
    "kernelspec": {
      "name": "python3",
      "display_name": "Python 3"
    },
    "language_info": {
      "name": "python"
    }
  },
  "cells": [
    {
      "cell_type": "code",
      "source": [
        "# first get key value using given code in picture\n",
        "total = 0\n",
        "for i in range(5):\n",
        "    for j in range(3):\n",
        "        if i + j == 5:\n",
        "            total += i + j\n",
        "        else:\n",
        "            total -= i - j\n",
        "\n",
        "counter = 0\n",
        "while counter < 5:\n",
        "    if total < 13:\n",
        "        total += 1\n",
        "    elif total > 13:\n",
        "        total -= 1\n",
        "    else:\n",
        "        counter += 2\n",
        "\n",
        "print(total)\n"
      ],
      "metadata": {
        "colab": {
          "base_uri": "https://localhost:8080/"
        },
        "id": "rVph3T5_4vPo",
        "outputId": "fbea1fe8-4adf-4aba-f50d-fc2f6fa9a998"
      },
      "execution_count": null,
      "outputs": [
        {
          "output_type": "stream",
          "name": "stdout",
          "text": [
            "13\n"
          ]
        }
      ]
    },
    {
      "cell_type": "code",
      "execution_count": null,
      "metadata": {
        "colab": {
          "base_uri": "https://localhost:8080/"
        },
        "id": "fyA-FZ3PutJf",
        "outputId": "3d4dd22b-7bd9-41d7-8c9b-4d9fcde87f09"
      },
      "outputs": [
        {
          "output_type": "stream",
          "name": "stdout",
          "text": [
            "Decrypted Code:\n",
            " global_variable = 100\n",
            "my_dict = {'key1': 'value1', 'key2': 'value2', 'key3': 'value3'}\n",
            "def process_numbers():\n",
            "global global_variable\n",
            "local_variable = 5\n",
            "numbers = [1, 2, 3, 4, 5]\n",
            "while local_variable > 0:\n",
            "if local_variable % 2 == 0: numbers.remove(local_variable)\n",
            "local_variable -= 1\n",
            "return numbers\n",
            "my_set = {1, 2, 3, 4, 5, 5, 4, 3, 2, 1} \n",
            "result = process_numbers(numbers=my_set)\n",
            "def modify_dict():\n",
            "local_variable = 10\n",
            "my_dict['ke14'] = local_variable\n",
            "modify_dict(5)\n",
            "def update_global():\n",
            "global global_variable \n",
            "global_variable += 10\n",
            "for i in range(5):\n",
            "print(i)\n",
            " i += 1\n",
            "if my_set is not None and my_dict['ke14'] == 10: \n",
            "print(\"Condition met!\")\n",
            "if 5 not in my_dict:\n",
            "print(\"5 not found in the dictionary!\")\n",
            "print(global_variable)\n",
            "print(my_dict)\n",
            "print(my_set)\n"
          ]
        }
      ],
      "source": [
        "# Decryption function\n",
        "def decrypt(encrypted_text, key):\n",
        "    decrypted_text = \"\"\n",
        "    for char in encrypted_text:\n",
        "        if char.isalpha():\n",
        "            shifted = ord(char) - key\n",
        "            if char.islower():\n",
        "                if shifted < ord('a'):\n",
        "                    shifted += 26\n",
        "            elif char.isupper():\n",
        "                if shifted < ord('A'):\n",
        "                    shifted += 26\n",
        "            decrypted_text += chr(shifted)\n",
        "        else:\n",
        "            decrypted_text += char\n",
        "    return decrypted_text\n",
        "\n",
        "# Encrypted code you provided\n",
        "encrypted_code = \"\"\"tybony_inevnoyr = 100\n",
        "zl_qvpg = {'xrl1': 'inyhr1', 'xrl2': 'inyhr2', 'xrl3': 'inyhr3'}\n",
        "qrs cebprff_ahzoref():\n",
        "tybony tybony_inevnoyr\n",
        "ybpny_inevnoyr = 5\n",
        "ahzoref = [1, 2, 3, 4, 5]\n",
        "juvyr ybpny_inevnoyr > 0:\n",
        "vs ybpny_inevnoyr % 2 == 0: ahzoref.erzbir(ybpny_inevnoyr)\n",
        "ybpny_inevnoyr -= 1\n",
        "erghea ahzoref\n",
        "zl_frg = {1, 2, 3, 4, 5, 5, 4, 3, 2, 1}\n",
        "erfhyg = cebprff_ahzoref(ahzoref=zl_frg)\n",
        "qrs zbqvsl_qvpg():\n",
        "ybpny_inevnoyr = 10\n",
        "zl_qvpg['xr14'] = ybpny_inevnoyr\n",
        "zbqvsl_qvpg(5)\n",
        "qrs hcqngr_tybony():\n",
        "tybony tybony_inevnoyr\n",
        "tybony_inevnoyr += 10\n",
        "sbe v va enatr(5):\n",
        "cevag(v)\n",
        " v += 1\n",
        "vs zl_frg vf abg Abar naq zl_qvpg['xr14'] == 10:\n",
        "cevag(\"Pbaqvgvba zrg!\")\n",
        "vs 5 abg va zl_qvpg:\n",
        "cevag(\"5 abg sbhaq va gur qvpgvbanel!\")\n",
        "cevag(tybony_inevnoyr)\n",
        "cevag(zl_qvpg)\n",
        "cevag(zl_frg)\"\"\"\n",
        "\n",
        "# Key for decryption\n",
        "key = 13\n",
        "\n",
        "# Decrypting the code\n",
        "decrypted_code = decrypt(encrypted_code, key)\n",
        "\n",
        "# Displaying the decrypted code\n",
        "print(\"Decrypted Code:\\n\", decrypted_code)\n"
      ]
    },
    {
      "cell_type": "code",
      "source": [
        "# Global variable\n",
        "global_variable = 100\n",
        "# Dictionary\n",
        "my_dict = {'key1': 'value1', 'key2': 'value2', 'key3': 'value3'}\n",
        "\n",
        "# Function to process numbers\n",
        "def process_numbers(numbers):  # Accept a list or set as input\n",
        "   \"\"\"Removes even numbers from the provided list or set.\"\"\"\n",
        "   result = []\n",
        "   for num in numbers:\n",
        "       if num % 2 != 0:  # Check for odd numbers\n",
        "           result.append(num)  # Add odd numbers to the result\n",
        "   return result  # Return the list of odd numbers\n",
        "\n",
        "\n",
        "my_set = {1, 2, 3, 4, 5}\n",
        "result = process_numbers(my_set)\n",
        "\n",
        "# Function to modify the dictionary\n",
        "def modify_dict():\n",
        "   \"\"\"Adds a new key-value pair to the global dictionary.\"\"\"\n",
        "   global my_dict  # Declare my_dict as global to modify it\n",
        "   my_dict['key4'] = 10  # Add the new key-value pair\n",
        "\n",
        "# Call the modify_dict function\n",
        "modify_dict()\n",
        "\n",
        "# Function to update the global variable\n",
        "def update_global():\n",
        "   global global_variable  # Declare global_variable as global\n",
        "   global_variable += 10\n",
        "\n",
        "# Call the update_global function\n",
        "update_global()\n",
        "\n",
        "# Loop and print numbers\n",
        "for i in range(5):\n",
        "   print(i)\n",
        "\n",
        "\n",
        "if my_set and my_dict.get('key4') == 10:  # Check for empty set and key existence\n",
        "   print(\"Condition met!\")\n",
        "if 5 not in my_dict.values():  # Check values in the dictionary\n",
        "   print(\"5 not found in the dictionary!\")\n",
        "\n",
        "# Print the global variable, dictionary, and set\n",
        "print(global_variable)\n",
        "print(my_dict)\n",
        "print(my_set)\n"
      ],
      "metadata": {
        "colab": {
          "base_uri": "https://localhost:8080/"
        },
        "id": "sW3uui3t0RSP",
        "outputId": "819aca6e-6f03-4b6c-acfc-8099c1a967a5"
      },
      "execution_count": 4,
      "outputs": [
        {
          "output_type": "stream",
          "name": "stdout",
          "text": [
            "0\n",
            "1\n",
            "2\n",
            "3\n",
            "4\n",
            "Condition met!\n",
            "5 not found in the dictionary!\n",
            "110\n",
            "{'key1': 'value1', 'key2': 'value2', 'key3': 'value3', 'key4': 10}\n",
            "{1, 2, 3, 4, 5}\n"
          ]
        }
      ]
    }
  ]
}