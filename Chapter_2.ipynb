{
  "nbformat": 4,
  "nbformat_minor": 0,
  "metadata": {
    "colab": {
      "provenance": []
    },
    "kernelspec": {
      "name": "python3",
      "display_name": "Python 3"
    },
    "language_info": {
      "name": "python"
    }
  },
  "cells": [
    {
      "cell_type": "markdown",
      "source": [
        " **Part 1**"
      ],
      "metadata": {
        "id": "XfnA72xW8-hz"
      }
    },
    {
      "cell_type": "code",
      "execution_count": null,
      "metadata": {
        "colab": {
          "base_uri": "https://localhost:8080/"
        },
        "id": "hJIoy6Br81Yl",
        "outputId": "355d6b2f-938c-49f5-d2d0-82c78129ab95"
      },
      "outputs": [
        {
          "output_type": "stream",
          "name": "stdout",
          "text": [
            "Number substring: 561984235270145785310\n",
            "Letter substring: aAwwsktraYmnssfsqD\n",
            "Even Numbers ASCII Values: 54, 56, 52, 50, 50, 48, 52, 56, 48\n",
            "Upper-case Letters ASCII Values: 65, 89, 68\n"
          ]
        }
      ],
      "source": [
        "def separate_and_convert(s):\n",
        "    number_substring = ''.join(char for char in s if char.isdigit())\n",
        "    letter_substring = ''.join(char for char in s if char.isalpha())\n",
        "\n",
        "    print(\"Number substring:\", number_substring)\n",
        "    print(\"Letter substring:\", letter_substring)\n",
        "\n",
        "    even_numbers_ascii = [str(ord(char)) for char in number_substring if int(char) % 2 == 0]\n",
        "    upper_case_letters_ascii = [str(ord(char)) for char in letter_substring if char.isupper()]\n",
        "\n",
        "    print(\"Even Numbers ASCII Values:\", ', '.join(even_numbers_ascii))\n",
        "    print(\"Upper-case Letters ASCII Values:\", ', '.join(upper_case_letters_ascii))\n",
        "\n",
        "# Example :\n",
        "input_string = '56aAww1984sktr235270aYmn145ss785fsq31D0'\n",
        "separate_and_convert(input_string)\n"
      ]
    },
    {
      "cell_type": "markdown",
      "source": [
        "**Part 2**"
      ],
      "metadata": {
        "id": "2agHdaf59YDq"
      }
    },
    {
      "cell_type": "code",
      "source": [
        "import string\n",
        "\n",
        "def decipher_cryptogram(ciphertext):\n",
        "    for shift in range(26):\n",
        "        plaintext = \"\"\n",
        "        for char in ciphertext:\n",
        "            if char.isalpha():\n",
        "                base = ord('A') if char.isupper() else ord('a')\n",
        "                new_char = chr((ord(char) - base - shift) % 26 + base)\n",
        "                plaintext += new_char\n",
        "            else:\n",
        "                plaintext += char\n",
        "\n",
        "        print(f\"Shift {shift}: {plaintext}\")\n",
        "\n",
        "ciphertext = \"VZ FRYSVFU VZCNGVRAG NAQ N YVGGYR VAFRPHER V ZNXR ZVFGNXRF V NZ BHG BS PBAGEBY NAQNG GVZRF UNEQ GB UNAQYR OHG VS LBH PNAG UNAQYR ZR NG ZL JBEFG GURA LBH FHER NF URYYQBAG QRFREIR ZR NG ZL ORFG ZNEVYLA ZBAEBR\"\n",
        "decipher_cryptogram(ciphertext)\n",
        "# In outPut Shift 13 is correct"
      ],
      "metadata": {
        "colab": {
          "base_uri": "https://localhost:8080/"
        },
        "id": "SSWK_PyF9egb",
        "outputId": "badc9306-a200-4cb6-adcb-a8e70cbd3546"
      },
      "execution_count": null,
      "outputs": [
        {
          "output_type": "stream",
          "name": "stdout",
          "text": [
            "Shift 0: VZ FRYSVFU VZCNGVRAG NAQ N YVGGYR VAFRPHER V ZNXR ZVFGNXRF V NZ BHG BS PBAGEBY NAQNG GVZRF UNEQ GB UNAQYR OHG VS LBH PNAG UNAQYR ZR NG ZL JBEFG GURA LBH FHER NF URYYQBAG QRFREIR ZR NG ZL ORFG ZNEVYLA ZBAEBR\n",
            "Shift 1: UY EQXRUET UYBMFUQZF MZP M XUFFXQ UZEQOGDQ U YMWQ YUEFMWQE U MY AGF AR OAZFDAX MZPMF FUYQE TMDP FA TMZPXQ NGF UR KAG OMZF TMZPXQ YQ MF YK IADEF FTQZ KAG EGDQ ME TQXXPAZF PQEQDHQ YQ MF YK NQEF YMDUXKZ YAZDAQ\n",
            "Shift 2: TX DPWQTDS TXALETPYE LYO L WTEEWP TYDPNFCP T XLVP XTDELVPD T LX ZFE ZQ NZYECZW LYOLE ETXPD SLCO EZ SLYOWP MFE TQ JZF NLYE SLYOWP XP LE XJ HZCDE ESPY JZF DFCP LD SPWWOZYE OPDPCGP XP LE XJ MPDE XLCTWJY XZYCZP\n",
            "Shift 3: SW COVPSCR SWZKDSOXD KXN K VSDDVO SXCOMEBO S WKUO WSCDKUOC S KW YED YP MYXDBYV KXNKD DSWOC RKBN DY RKXNVO LED SP IYE MKXD RKXNVO WO KD WI GYBCD DROX IYE CEBO KC ROVVNYXD NOCOBFO WO KD WI LOCD WKBSVIX WYXBYO\n",
            "Shift 4: RV BNUORBQ RVYJCRNWC JWM J URCCUN RWBNLDAN R VJTN VRBCJTNB R JV XDC XO LXWCAXU JWMJC CRVNB QJAM CX QJWMUN KDC RO HXD LJWC QJWMUN VN JC VH FXABC CQNW HXD BDAN JB QNUUMXWC MNBNAEN VN JC VH KNBC VJARUHW VXWAXN\n",
            "Shift 5: QU AMTNQAP QUXIBQMVB IVL I TQBBTM QVAMKCZM Q UISM UQABISMA Q IU WCB WN KWVBZWT IVLIB BQUMA PIZL BW PIVLTM JCB QN GWC KIVB PIVLTM UM IB UG EWZAB BPMV GWC ACZM IA PMTTLWVB LMAMZDM UM IB UG JMAB UIZQTGV UWVZWM\n",
            "Shift 6: PT ZLSMPZO PTWHAPLUA HUK H SPAASL PUZLJBYL P THRL TPZAHRLZ P HT VBA VM JVUAYVS HUKHA APTLZ OHYK AV OHUKSL IBA PM FVB JHUA OHUKSL TL HA TF DVYZA AOLU FVB ZBYL HZ OLSSKVUA KLZLYCL TL HA TF ILZA THYPSFU TVUYVL\n",
            "Shift 7: OS YKRLOYN OSVGZOKTZ GTJ G ROZZRK OTYKIAXK O SGQK SOYZGQKY O GS UAZ UL IUTZXUR GTJGZ ZOSKY NGXJ ZU NGTJRK HAZ OL EUA IGTZ NGTJRK SK GZ SE CUXYZ ZNKT EUA YAXK GY NKRRJUTZ JKYKXBK SK GZ SE HKYZ SGXORET SUTXUK\n",
            "Shift 8: NR XJQKNXM NRUFYNJSY FSI F QNYYQJ NSXJHZWJ N RFPJ RNXYFPJX N FR TZY TK HTSYWTQ FSIFY YNRJX MFWI YT MFSIQJ GZY NK DTZ HFSY MFSIQJ RJ FY RD BTWXY YMJS DTZ XZWJ FX MJQQITSY IJXJWAJ RJ FY RD GJXY RFWNQDS RTSWTJ\n",
            "Shift 9: MQ WIPJMWL MQTEXMIRX ERH E PMXXPI MRWIGYVI M QEOI QMWXEOIW M EQ SYX SJ GSRXVSP ERHEX XMQIW LEVH XS LERHPI FYX MJ CSY GERX LERHPI QI EX QC ASVWX XLIR CSY WYVI EW LIPPHSRX HIWIVZI QI EX QC FIWX QEVMPCR QSRVSI\n",
            "Shift 10: LP VHOILVK LPSDWLHQW DQG D OLWWOH LQVHFXUH L PDNH PLVWDNHV L DP RXW RI FRQWURO DQGDW WLPHV KDUG WR KDQGOH EXW LI BRX FDQW KDQGOH PH DW PB ZRUVW WKHQ BRX VXUH DV KHOOGRQW GHVHUYH PH DW PB EHVW PDULOBQ PRQURH\n",
            "Shift 11: KO UGNHKUJ KORCVKGPV CPF C NKVVNG KPUGEWTG K OCMG OKUVCMGU K CO QWV QH EQPVTQN CPFCV VKOGU JCTF VQ JCPFNG DWV KH AQW ECPV JCPFNG OG CV OA YQTUV VJGP AQW UWTG CU JGNNFQPV FGUGTXG OG CV OA DGUV OCTKNAP OQPTQG\n",
            "Shift 12: JN TFMGJTI JNQBUJFOU BOE B MJUUMF JOTFDVSF J NBLF NJTUBLFT J BN PVU PG DPOUSPM BOEBU UJNFT IBSE UP IBOEMF CVU JG ZPV DBOU IBOEMF NF BU NZ XPSTU UIFO ZPV TVSF BT IFMMEPOU EFTFSWF NF BU NZ CFTU NBSJMZO NPOSPF\n",
            "Shift 13: IM SELFISH IMPATIENT AND A LITTLE INSECURE I MAKE MISTAKES I AM OUT OF CONTROL ANDAT TIMES HARD TO HANDLE BUT IF YOU CANT HANDLE ME AT MY WORST THEN YOU SURE AS HELLDONT DESERVE ME AT MY BEST MARILYN MONROE\n",
            "Shift 14: HL RDKEHRG HLOZSHDMS ZMC Z KHSSKD HMRDBTQD H LZJD LHRSZJDR H ZL NTS NE BNMSQNK ZMCZS SHLDR GZQC SN GZMCKD ATS HE XNT BZMS GZMCKD LD ZS LX VNQRS SGDM XNT RTQD ZR GDKKCNMS CDRDQUD LD ZS LX ADRS LZQHKXM LNMQND\n",
            "Shift 15: GK QCJDGQF GKNYRGCLR YLB Y JGRRJC GLQCASPC G KYIC KGQRYICQ G YK MSR MD AMLRPMJ YLBYR RGKCQ FYPB RM FYLBJC ZSR GD WMS AYLR FYLBJC KC YR KW UMPQR RFCL WMS QSPC YQ FCJJBMLR BCQCPTC KC YR KW ZCQR KYPGJWL KMLPMC\n",
            "Shift 16: FJ PBICFPE FJMXQFBKQ XKA X IFQQIB FKPBZROB F JXHB JFPQXHBP F XJ LRQ LC ZLKQOLI XKAXQ QFJBP EXOA QL EXKAIB YRQ FC VLR ZXKQ EXKAIB JB XQ JV TLOPQ QEBK VLR PROB XP EBIIALKQ ABPBOSB JB XQ JV YBPQ JXOFIVK JLKOLB\n",
            "Shift 17: EI OAHBEOD EILWPEAJP WJZ W HEPPHA EJOAYQNA E IWGA IEOPWGAO E WI KQP KB YKJPNKH WJZWP PEIAO DWNZ PK DWJZHA XQP EB UKQ YWJP DWJZHA IA WP IU SKNOP PDAJ UKQ OQNA WO DAHHZKJP ZAOANRA IA WP IU XAOP IWNEHUJ IKJNKA\n",
            "Shift 18: DH NZGADNC DHKVODZIO VIY V GDOOGZ DINZXPMZ D HVFZ HDNOVFZN D VH JPO JA XJIOMJG VIYVO ODHZN CVMY OJ CVIYGZ WPO DA TJP XVIO CVIYGZ HZ VO HT RJMNO OCZI TJP NPMZ VN CZGGYJIO YZNZMQZ HZ VO HT WZNO HVMDGTI HJIMJZ\n",
            "Shift 19: CG MYFZCMB CGJUNCYHN UHX U FCNNFY CHMYWOLY C GUEY GCMNUEYM C UG ION IZ WIHNLIF UHXUN NCGYM BULX NI BUHXFY VON CZ SIO WUHN BUHXFY GY UN GS QILMN NBYH SIO MOLY UM BYFFXIHN XYMYLPY GY UN GS VYMN GULCFSH GIHLIY\n",
            "Shift 20: BF LXEYBLA BFITMBXGM TGW T EBMMEX BGLXVNKX B FTDX FBLMTDXL B TF HNM HY VHGMKHE TGWTM MBFXL ATKW MH ATGWEX UNM BY RHN VTGM ATGWEX FX TM FR PHKLM MAXG RHN LNKX TL AXEEWHGM WXLXKOX FX TM FR UXLM FTKBERG FHGKHX\n",
            "Shift 21: AE KWDXAKZ AEHSLAWFL SFV S DALLDW AFKWUMJW A ESCW EAKLSCWK A SE GML GX UGFLJGD SFVSL LAEWK ZSJV LG ZSFVDW TML AX QGM USFL ZSFVDW EW SL EQ OGJKL LZWF QGM KMJW SK ZWDDVGFL VWKWJNW EW SL EQ TWKL ESJADQF EGFJGW\n",
            "Shift 22: ZD JVCWZJY ZDGRKZVEK REU R CZKKCV ZEJVTLIV Z DRBV DZJKRBVJ Z RD FLK FW TFEKIFC REURK KZDVJ YRIU KF YREUCV SLK ZW PFL TREK YREUCV DV RK DP NFIJK KYVE PFL JLIV RJ YVCCUFEK UVJVIMV DV RK DP SVJK DRIZCPE DFEIFV\n",
            "Shift 23: YC IUBVYIX YCFQJYUDJ QDT Q BYJJBU YDIUSKHU Y CQAU CYIJQAUI Y QC EKJ EV SEDJHEB QDTQJ JYCUI XQHT JE XQDTBU RKJ YV OEK SQDJ XQDTBU CU QJ CO MEHIJ JXUD OEK IKHU QI XUBBTEDJ TUIUHLU CU QJ CO RUIJ CQHYBOD CEDHEU\n",
            "Shift 24: XB HTAUXHW XBEPIXTCI PCS P AXIIAT XCHTRJGT X BPZT BXHIPZTH X PB DJI DU RDCIGDA PCSPI IXBTH WPGS ID WPCSAT QJI XU NDJ RPCI WPCSAT BT PI BN LDGHI IWTC NDJ HJGT PH WTAASDCI STHTGKT BT PI BN QTHI BPGXANC BDCGDT\n",
            "Shift 25: WA GSZTWGV WADOHWSBH OBR O ZWHHZS WBGSQIFS W AOYS AWGHOYSG W OA CIH CT QCBHFCZ OBROH HWASG VOFR HC VOBRZS PIH WT MCI QOBH VOBRZS AS OH AM KCFGH HVSB MCI GIFS OG VSZZRCBH RSGSFJS AS OH AM PSGH AOFWZMB ACBFCS\n"
          ]
        }
      ]
    }
  ]
}