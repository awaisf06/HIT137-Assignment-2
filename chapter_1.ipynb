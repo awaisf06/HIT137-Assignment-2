{
  "nbformat": 4,
  "nbformat_minor": 0,
  "metadata": {
    "colab": {
      "provenance": []
    },
    "kernelspec": {
      "name": "python3",
      "display_name": "Python 3"
    },
    "language_info": {
      "name": "python"
    }
  },
  "cells": [
    {
      "cell_type": "code",
      "source": [
        "from PIL import Image\n",
        "# Load the image\n",
        "image_path = 'chapter1.jpg'\n",
        "original_image = Image.open(image_path)"
      ],
      "metadata": {
        "id": "aMbnWHUY1VN8"
      },
      "execution_count": 1,
      "outputs": []
    },
    {
      "cell_type": "code",
      "source": [
        "# Get the dimensions of the image\n",
        "width, height = original_image.size"
      ],
      "metadata": {
        "id": "JtEwlkBl1X5N"
      },
      "execution_count": 2,
      "outputs": []
    },
    {
      "cell_type": "code",
      "source": [
        "# Generate the number\n",
        "import time\n",
        "current_time = int(time.time())\n",
        "generated_number = (current_time % 100) + 50\n",
        "if generated_number % 2 == 0:\n",
        "    generated_number += 10"
      ],
      "metadata": {
        "id": "Ycp5Lr1l1XqP"
      },
      "execution_count": 3,
      "outputs": []
    },
    {
      "cell_type": "code",
      "source": [
        "# Create a new image with modified pixel values\n",
        "new_image = Image.new('RGB', (width, height))"
      ],
      "metadata": {
        "id": "RKMCH8oZ1XbR"
      },
      "execution_count": 4,
      "outputs": []
    },
    {
      "cell_type": "code",
      "source": [
        "# Iterate through each pixel and modify the values\n",
        "for x in range(width):\n",
        "    for y in range(height):\n",
        "        # Get the original pixel values\n",
        "        r, g, b = original_image.getpixel((x, y))\n",
        "        # Modify the pixel values\n",
        "        r_new = min(255, r + generated_number)\n",
        "        g_new = min(255, g + generated_number)\n",
        "        b_new = min(255, b + generated_number)\n",
        "        # Set the modified pixel values in the new image\n",
        "        new_image.putpixel((x, y), (r_new, g_new, b_new))"
      ],
      "metadata": {
        "id": "8XC9hSft1XJY"
      },
      "execution_count": 5,
      "outputs": []
    },
    {
      "cell_type": "code",
      "source": [
        "# Save the new image\n",
        "new_image_path = 'chapter1out.png'\n",
        "new_image.save(new_image_path)"
      ],
      "metadata": {
        "id": "Hb4aRC291Wbg"
      },
      "execution_count": 6,
      "outputs": []
    },
    {
      "cell_type": "code",
      "source": [
        "# Calculate the sum of red (r) pixel values in the new image\n",
        "red_pixel_sum = sum(r for r, _, _ in new_image.getdata())\n",
        "# Print the sum of red pixel values\n",
        "print(\"Sum of Red Pixel Values:\", red_pixel_sum)"
      ],
      "metadata": {
        "colab": {
          "base_uri": "https://localhost:8080/"
        },
        "id": "LQCv4lit2Hab",
        "outputId": "c10af7ff-8178-42d3-c5b7-a085b13b21fc"
      },
      "execution_count": 7,
      "outputs": [
        {
          "output_type": "stream",
          "name": "stdout",
          "text": [
            "Sum of Red Pixel Values: 324148140\n"
          ]
        }
      ]
    },
    {
      "cell_type": "code",
      "source": [],
      "metadata": {
        "id": "q1OwBsYQ2HHn"
      },
      "execution_count": null,
      "outputs": []
    },
    {
      "cell_type": "code",
      "source": [],
      "metadata": {
        "id": "W22fKn6i2G1u"
      },
      "execution_count": null,
      "outputs": []
    }
  ]
}